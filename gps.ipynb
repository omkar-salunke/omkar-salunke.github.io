{
  "cells": [
    {
      "cell_type": "markdown",
      "metadata": {
        "id": "view-in-github",
        "colab_type": "text"
      },
      "source": [
        "<a href=\"https://colab.research.google.com/github/omkar-salunke/omkar-salunke.github.io/blob/main/gps.ipynb\" target=\"_parent\"><img src=\"https://colab.research.google.com/assets/colab-badge.svg\" alt=\"Open In Colab\"/></a>"
      ]
    },
    {
      "cell_type": "code",
      "source": [
        "!pip install pyrosm"
      ],
      "metadata": {
        "colab": {
          "base_uri": "https://localhost:8080/"
        },
        "id": "iqeEHhPEtBVz",
        "outputId": "7e50ec81-e2a5-4eb4-ef3a-90cdc09a659f"
      },
      "execution_count": 1,
      "outputs": [
        {
          "output_type": "stream",
          "name": "stdout",
          "text": [
            "Looking in indexes: https://pypi.org/simple, https://us-python.pkg.dev/colab-wheels/public/simple/\n",
            "Collecting pyrosm\n",
            "  Downloading pyrosm-0.6.1.tar.gz (2.1 MB)\n",
            "\u001b[K     |████████████████████████████████| 2.1 MB 5.1 MB/s \n",
            "\u001b[?25h  Installing build dependencies ... \u001b[?25l\u001b[?25hdone\n",
            "  Getting requirements to build wheel ... \u001b[?25l\u001b[?25hdone\n",
            "    Preparing wheel metadata ... \u001b[?25l\u001b[?25hdone\n",
            "Collecting geopandas>=0.8.0\n",
            "  Downloading geopandas-0.10.2-py2.py3-none-any.whl (1.0 MB)\n",
            "\u001b[K     |████████████████████████████████| 1.0 MB 42.9 MB/s \n",
            "\u001b[?25hCollecting pyrobuf\n",
            "  Using cached pyrobuf-0.9.3-cp37-cp37m-linux_x86_64.whl\n",
            "Collecting pygeos\n",
            "  Downloading pygeos-0.13-cp37-cp37m-manylinux_2_17_x86_64.manylinux2014_x86_64.whl (2.1 MB)\n",
            "\u001b[K     |████████████████████████████████| 2.1 MB 44.1 MB/s \n",
            "\u001b[?25hCollecting cykhash\n",
            "  Using cached cykhash-2.0.0-cp37-cp37m-linux_x86_64.whl\n",
            "Requirement already satisfied: setuptools>=18.0 in /usr/local/lib/python3.7/dist-packages (from pyrosm) (57.4.0)\n",
            "Collecting python-rapidjson\n",
            "  Downloading python_rapidjson-1.9-cp37-cp37m-manylinux_2_17_x86_64.manylinux2014_x86_64.whl (1.6 MB)\n",
            "\u001b[K     |████████████████████████████████| 1.6 MB 47.9 MB/s \n",
            "\u001b[?25hRequirement already satisfied: pandas>=0.25.0 in /usr/local/lib/python3.7/dist-packages (from geopandas>=0.8.0->pyrosm) (1.3.5)\n",
            "Collecting pyproj>=2.2.0\n",
            "  Downloading pyproj-3.2.1-cp37-cp37m-manylinux2010_x86_64.whl (6.3 MB)\n",
            "\u001b[K     |████████████████████████████████| 6.3 MB 35.1 MB/s \n",
            "\u001b[?25hRequirement already satisfied: shapely>=1.6 in /usr/local/lib/python3.7/dist-packages (from geopandas>=0.8.0->pyrosm) (1.8.5.post1)\n",
            "Collecting fiona>=1.8\n",
            "  Downloading Fiona-1.8.22-cp37-cp37m-manylinux2014_x86_64.whl (16.7 MB)\n",
            "\u001b[K     |████████████████████████████████| 16.7 MB 444 kB/s \n",
            "\u001b[?25hRequirement already satisfied: attrs>=17 in /usr/local/lib/python3.7/dist-packages (from fiona>=1.8->geopandas>=0.8.0->pyrosm) (22.1.0)\n",
            "Collecting cligj>=0.5\n",
            "  Downloading cligj-0.7.2-py3-none-any.whl (7.1 kB)\n",
            "Requirement already satisfied: click>=4.0 in /usr/local/lib/python3.7/dist-packages (from fiona>=1.8->geopandas>=0.8.0->pyrosm) (7.1.2)\n",
            "Collecting click-plugins>=1.0\n",
            "  Downloading click_plugins-1.1.1-py2.py3-none-any.whl (7.5 kB)\n",
            "Requirement already satisfied: certifi in /usr/local/lib/python3.7/dist-packages (from fiona>=1.8->geopandas>=0.8.0->pyrosm) (2022.9.24)\n",
            "Requirement already satisfied: six>=1.7 in /usr/local/lib/python3.7/dist-packages (from fiona>=1.8->geopandas>=0.8.0->pyrosm) (1.15.0)\n",
            "Collecting munch\n",
            "  Downloading munch-2.5.0-py2.py3-none-any.whl (10 kB)\n",
            "Requirement already satisfied: pytz>=2017.3 in /usr/local/lib/python3.7/dist-packages (from pandas>=0.25.0->geopandas>=0.8.0->pyrosm) (2022.4)\n",
            "Requirement already satisfied: python-dateutil>=2.7.3 in /usr/local/lib/python3.7/dist-packages (from pandas>=0.25.0->geopandas>=0.8.0->pyrosm) (2.8.2)\n",
            "Requirement already satisfied: numpy>=1.17.3 in /usr/local/lib/python3.7/dist-packages (from pandas>=0.25.0->geopandas>=0.8.0->pyrosm) (1.21.6)\n",
            "Requirement already satisfied: jinja2>=2.8 in /usr/local/lib/python3.7/dist-packages (from pyrobuf->pyrosm) (2.11.3)\n",
            "Requirement already satisfied: cython>=0.23 in /usr/local/lib/python3.7/dist-packages (from pyrobuf->pyrosm) (0.29.32)\n",
            "Requirement already satisfied: MarkupSafe>=0.23 in /usr/local/lib/python3.7/dist-packages (from jinja2>=2.8->pyrobuf->pyrosm) (2.0.1)\n",
            "Building wheels for collected packages: pyrosm\n",
            "  Building wheel for pyrosm (PEP 517) ... \u001b[?25l\u001b[?25hdone\n",
            "  Created wheel for pyrosm: filename=pyrosm-0.6.1-cp37-cp37m-linux_x86_64.whl size=5430432 sha256=df09a0a1bd742c11c1a7504ea5b1dd0008feb82d4b78ea97b25613497334324a\n",
            "  Stored in directory: /root/.cache/pip/wheels/e8/9e/d8/e424ffc5eaa71ccb122bb79d92ef75802c49b9b0a9366d6da4\n",
            "Successfully built pyrosm\n",
            "Installing collected packages: munch, cligj, click-plugins, pyproj, fiona, python-rapidjson, pyrobuf, pygeos, geopandas, cykhash, pyrosm\n",
            "Successfully installed click-plugins-1.1.1 cligj-0.7.2 cykhash-2.0.0 fiona-1.8.22 geopandas-0.10.2 munch-2.5.0 pygeos-0.13 pyproj-3.2.1 pyrobuf-0.9.3 pyrosm-0.6.1 python-rapidjson-1.9\n"
          ]
        }
      ]
    },
    {
      "cell_type": "code",
      "source": [
        "from pyrosm import get_data\n",
        "# Download data for the city of Helsinki\n",
        "fp = get_data(\"stuttgart\")\n"
      ],
      "metadata": {
        "colab": {
          "base_uri": "https://localhost:8080/"
        },
        "id": "WZ6z_t2UtAL_",
        "outputId": "194d6337-a0ef-46e9-abc4-4f66926c8af5"
      },
      "execution_count": 2,
      "outputs": [
        {
          "output_type": "stream",
          "name": "stdout",
          "text": [
            "Downloaded Protobuf data 'Stuttgart.osm.pbf' (60.05 MB) to:\n",
            "'/tmp/pyrosm/Stuttgart.osm.pbf'\n"
          ]
        }
      ]
    },
    {
      "cell_type": "code",
      "source": [
        "from pyrosm import OSM\n",
        "# Initialize the OSM parser object\n",
        "osm = OSM(fp)\n",
        "\n",
        "# Read all drivable roads\n",
        "# =======================\n",
        "drive_net = osm.get_network(network_type=\"driving\")\n",
        "drive_net.plot()\n"
      ],
      "metadata": {
        "id": "kdc056xwtD-m"
      },
      "execution_count": null,
      "outputs": []
    },
    {
      "cell_type": "code",
      "source": [
        "from shapely.geometry import  MultiLineString, mapping, shape\n",
        "def line_to_coords(geom):\n",
        "    m = mapping(geom)\n",
        "    list_of_tuples = m['coordinates'] # alternative -> geom.coords[:]\n",
        "    list_of_lists = list(map(list, list_of_tuples))\n",
        "    return list_of_lists\n",
        "\n",
        "drive_net['coords'] = drive_net.apply(lambda row: line_to_coords(row.geometry), axis=1)\n"
      ],
      "metadata": {
        "id": "c9rnav-cvOg3"
      },
      "execution_count": null,
      "outputs": []
    },
    {
      "cell_type": "code",
      "source": [
        "list_line=[]\n",
        "for line in drive_net['geometry'][0]:\n",
        "     print(line)\n",
        "     list_line.append(list(line.coords))\n"
      ],
      "metadata": {
        "colab": {
          "base_uri": "https://localhost:8080/"
        },
        "id": "7-2mrginvi4A",
        "outputId": "c045d558-8bed-4b8f-bc73-dcee9e6c25a7"
      },
      "execution_count": 29,
      "outputs": [
        {
          "output_type": "stream",
          "name": "stdout",
          "text": [
            "LINESTRING (25.1261162 60.2574597, 25.1270928 60.2576266)\n",
            "LINESTRING (25.1270928 60.2576266, 25.1279981 60.2577708)\n",
            "LINESTRING (25.1279981 60.2577708, 25.1292996 60.257962)\n",
            "LINESTRING (25.1292996 60.257962, 25.1295425 60.2579957)\n",
            "LINESTRING (25.1295425 60.2579957, 25.1306046 60.2581428)\n",
            "LINESTRING (25.1306046 60.2581428, 25.1320436 60.2583447)\n",
            "LINESTRING (25.1320436 60.2583447, 25.1323419 60.2583865)\n",
            "LINESTRING (25.1323419 60.2583865, 25.1336959 60.2585986)\n",
            "LINESTRING (25.1336959 60.2585986, 25.1366653 60.2591513)\n"
          ]
        },
        {
          "output_type": "stream",
          "name": "stderr",
          "text": [
            "/usr/local/lib/python3.7/dist-packages/ipykernel_launcher.py:2: ShapelyDeprecationWarning: Iteration over multi-part geometries is deprecated and will be removed in Shapely 2.0. Use the `geoms` property to access the constituent parts of a multi-part geometry.\n",
            "  \n"
          ]
        }
      ]
    }
  ],
  "metadata": {
    "colab": {
      "collapsed_sections": [],
      "name": "Welcome To Colaboratory",
      "toc_visible": true,
      "provenance": [],
      "include_colab_link": true
    },
    "kernelspec": {
      "display_name": "Python 3",
      "name": "python3"
    }
  },
  "nbformat": 4,
  "nbformat_minor": 0
}